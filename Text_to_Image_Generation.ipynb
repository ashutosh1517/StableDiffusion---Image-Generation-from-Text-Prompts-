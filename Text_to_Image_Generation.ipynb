{
  "nbformat": 4,
  "nbformat_minor": 0,
  "metadata": {
    "colab": {
      "provenance": [],
      "gpuType": "T4"
    },
    "kernelspec": {
      "name": "python3",
      "display_name": "Python 3"
    },
    "language_info": {
      "name": "python"
    },
    "accelerator": "GPU"
  },
  "cells": [
    {
      "cell_type": "code",
      "execution_count": null,
      "metadata": {
        "id": "Z6cmUYWD4XtM"
      },
      "outputs": [],
      "source": [
        "# mounting g-drive\n",
        "from google.colab import drive\n",
        "drive.mount('/content/drive')"
      ]
    },
    {
      "cell_type": "code",
      "source": [
        "import requests"
      ],
      "metadata": {
        "id": "za43exjv9yBj"
      },
      "execution_count": null,
      "outputs": []
    },
    {
      "cell_type": "code",
      "source": [
        "import matplotlib.pyplot as plt"
      ],
      "metadata": {
        "id": "YDKGkKGKsVPi"
      },
      "execution_count": null,
      "outputs": []
    },
    {
      "cell_type": "code",
      "source": [
        "# loading prompts from google docs\n",
        "doc_id = \"1VJHTKDMPapyLbACAIOWvzRdrUhV70y03Mbyr_y--AN0\"\n",
        "url = f\"https://docs.google.com/document/d/{doc_id}/export?format=txt\"\n",
        "response = requests.get(url)\n",
        "\n",
        "# decoding with utf-8-sig to remove BOM\n",
        "text = response.content.decode(\"utf-8-sig\")\n",
        "prompts = [line.strip() for line in text.split(\"\\n\") if line.strip()]\n"
      ],
      "metadata": {
        "id": "dvCGzpPr9GD2"
      },
      "execution_count": null,
      "outputs": []
    },
    {
      "cell_type": "code",
      "source": [
        "# total number of prompts and first few prompts\n",
        "print(f\"Loaded {len(prompts)} prompts\")\n",
        "print(\"First 3 prompts:\", prompts[:3])"
      ],
      "metadata": {
        "id": "q0vhLgLgHdci"
      },
      "execution_count": null,
      "outputs": []
    },
    {
      "cell_type": "code",
      "source": [
        "prompts"
      ],
      "metadata": {
        "id": "28O44Zyo9GHs"
      },
      "execution_count": null,
      "outputs": []
    },
    {
      "cell_type": "code",
      "source": [
        "import os\n",
        "\n",
        "# setting output directory for Generated images from the prompts\n",
        "output_dir = \"/content/drive/MyDrive/Colab Notebooks/J Application Workstation/Dreamslayer/final_outputs\"\n",
        "os.makedirs(output_dir, exist_ok=True)\n"
      ],
      "metadata": {
        "id": "znSIFQwB-0vE"
      },
      "execution_count": null,
      "outputs": []
    },
    {
      "cell_type": "code",
      "source": [
        "# importing modelling libraries\n",
        "import torch\n",
        "from PIL import Image"
      ],
      "metadata": {
        "id": "zNK_cRt89GNw"
      },
      "execution_count": null,
      "outputs": []
    },
    {
      "cell_type": "code",
      "source": [
        "### model"
      ],
      "metadata": {
        "id": "gaVo6OrYD5OV"
      },
      "execution_count": null,
      "outputs": []
    },
    {
      "cell_type": "code",
      "source": [
        "from diffusers import AutoPipelineForText2Image"
      ],
      "metadata": {
        "id": "Ok8lTgECD-c-"
      },
      "execution_count": null,
      "outputs": []
    },
    {
      "cell_type": "code",
      "source": [
        "device = \"cuda\" if torch.cuda.is_available() else \"cpu\"\n",
        "\n",
        "# pipeline for generation\n",
        "pipe = AutoPipelineForText2Image.from_pretrained(\"stabilityai/sd-turbo\",\n",
        "                                                 dtype=torch.float16,\n",
        "                                                 variant=\"fp16\")\n",
        "# moving to the device\n",
        "pipe.to(device)\n",
        "\n",
        "# enabling faster generation\n",
        "pipe.enable_attention_slicing()\n"
      ],
      "metadata": {
        "id": "Gu-Kd29ND5Qy"
      },
      "execution_count": null,
      "outputs": []
    },
    {
      "cell_type": "code",
      "source": [
        "# demo\n",
        "demo_prompt = prompts[0]\n",
        "print(demo_prompt)\n",
        "demo = pipe(prompt=demo_prompt, num_inference_steps=4, guidance_scale=0.1).images[0]\n"
      ],
      "metadata": {
        "id": "dPMsZgySGc4b"
      },
      "execution_count": null,
      "outputs": []
    },
    {
      "cell_type": "code",
      "source": [
        "plt.imshow(demo)"
      ],
      "metadata": {
        "id": "w5xvH2z6Iimq"
      },
      "execution_count": null,
      "outputs": []
    },
    {
      "cell_type": "code",
      "source": [
        "import time"
      ],
      "metadata": {
        "id": "Cw_is4QEI8H6"
      },
      "execution_count": null,
      "outputs": []
    },
    {
      "cell_type": "code",
      "source": [
        "# from PIL import ImageEnhance"
      ],
      "metadata": {
        "id": "giO37yCHNsjT"
      },
      "execution_count": null,
      "outputs": []
    },
    {
      "cell_type": "code",
      "source": [
        "## batch processing - 49 images from 49 prompts\n",
        "\n",
        "from tqdm import tqdm\n",
        "\n",
        "total_time = 0\n",
        "\n",
        "for idx, prompt in enumerate(tqdm(prompts, desc=\"Generating images\")):\n",
        "    try:\n",
        "        ind_time_start = time.time()\n",
        "        image = pipe(prompt, height=512, width=512, num_inference_steps=4, guidance_scale=0.1).images[0]\n",
        "        ind_time_ends = time.time()\n",
        "        time_taken = ind_time_ends-ind_time_start\n",
        "        print('Time taken to generate this image: ', ind_time_ends-ind_time_start)\n",
        "        #sharpened = ImageEnhance.Sharpness(image).enhance(3.0)\n",
        "        filename = os.path.join(output_dir, f\"{idx+1:04d}.png\")\n",
        "        image.save(filename)\n",
        "        print(f\"Saved {filename}\")\n",
        "        total_time += time_taken\n",
        "    except Exception as e:\n",
        "        print(f\"Failed for prompt {idx+1}: {prompt}\\n{e}\")\n",
        "\n",
        "print(f\"Total time taken for {len(prompts)} images: {total_time/60} minutes\")"
      ],
      "metadata": {
        "id": "Jwd-LX3hG-UD"
      },
      "execution_count": null,
      "outputs": []
    },
    {
      "cell_type": "code",
      "source": [
        "print(total_time/60, \"minutes\")"
      ],
      "metadata": {
        "id": "EFnlJswVMf5e"
      },
      "execution_count": null,
      "outputs": []
    },
    {
      "cell_type": "code",
      "source": [
        "counter = 0\n",
        "for i in os.listdir(output_dir):\n",
        "  print(i + \"----\" +  prompts[counter])\n",
        "  img = plt.imread(f\"{output_dir}/{i}\")\n",
        "  plt.imshow(img)\n",
        "  plt.show()\n",
        "  counter += 1\n",
        "  print(\"\\n\\n\")"
      ],
      "metadata": {
        "id": "7GXlWXlqG-XI"
      },
      "execution_count": null,
      "outputs": []
    },
    {
      "cell_type": "code",
      "source": [
        "\n"
      ],
      "metadata": {
        "id": "EIVekORykX-s"
      },
      "execution_count": null,
      "outputs": []
    }
  ]
}